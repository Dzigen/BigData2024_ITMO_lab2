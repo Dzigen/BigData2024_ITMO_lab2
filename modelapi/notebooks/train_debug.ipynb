{
 "cells": [
  {
   "cell_type": "code",
   "execution_count": 4,
   "metadata": {},
   "outputs": [],
   "source": [
    "import sys\n",
    "sys.path.insert(0,\"../\")\n",
    "sys.path.insert(0,\"../src\")\n",
    "\n",
    "\n",
    "from src.utils import get_params_config, load_data\n",
    "from src.train import RandomForestConfig, Trainer\n",
    "\n",
    "PARAMS_YAML_PATH = \"../params.yaml\"\n",
    "TRAIN_PATH = '../data/train_part.csv'\n",
    "MODEL_SAVE_PATH = './model.pkl'"
   ]
  },
  {
   "cell_type": "code",
   "execution_count": 5,
   "metadata": {},
   "outputs": [
    {
     "name": "stdout",
     "output_type": "stream",
     "text": [
      "2024-04-27 00:02:41,409 — src.train — INFO — Initiating Trainer-class\n",
      "2024-04-27 00:02:41,409 — src.train — INFO — Initiating Trainer-class\n",
      "2024-04-27 00:02:41,409 — src.train — INFO — Initiating Trainer-class\n",
      "2024-04-27 00:02:41,416 — src.train — INFO — START_METHOD: Model training\n",
      "2024-04-27 00:02:41,416 — src.train — INFO — START_METHOD: Model training\n",
      "2024-04-27 00:02:41,416 — src.train — INFO — START_METHOD: Model training\n"
     ]
    },
    {
     "name": "stderr",
     "output_type": "stream",
     "text": [
      "[Parallel(n_jobs=2)]: Using backend ThreadingBackend with 2 concurrent workers.\n",
      "[Parallel(n_jobs=2)]: Done  46 tasks      | elapsed:    0.1s\n"
     ]
    },
    {
     "name": "stdout",
     "output_type": "stream",
     "text": [
      "2024-04-27 00:02:41,831 — src.train — INFO — END_METHOD: Model training\n",
      "2024-04-27 00:02:41,831 — src.train — INFO — END_METHOD: Model training\n",
      "2024-04-27 00:02:41,831 — src.train — INFO — END_METHOD: Model training\n",
      "2024-04-27 00:02:41,832 — src.train — INFO — START_METHOD: Saving model\n",
      "2024-04-27 00:02:41,832 — src.train — INFO — START_METHOD: Saving model\n",
      "2024-04-27 00:02:41,832 — src.train — INFO — START_METHOD: Saving model\n"
     ]
    },
    {
     "name": "stderr",
     "output_type": "stream",
     "text": [
      "[Parallel(n_jobs=2)]: Done 196 tasks      | elapsed:    0.2s\n",
      "[Parallel(n_jobs=2)]: Done 300 out of 300 | elapsed:    0.3s finished\n"
     ]
    },
    {
     "name": "stdout",
     "output_type": "stream",
     "text": [
      "2024-04-27 00:02:41,927 — src.train — INFO — END_METHOD: Saving model\n",
      "2024-04-27 00:02:41,927 — src.train — INFO — END_METHOD: Saving model\n",
      "2024-04-27 00:02:41,927 — src.train — INFO — END_METHOD: Saving model\n"
     ]
    }
   ],
   "source": [
    "params = get_params_config(params_path=PARAMS_YAML_PATH)\n",
    "rf_config = RandomForestConfig.from_dict(params.train.to_dict())\n",
    "\n",
    "trainer = Trainer(rf_config)\n",
    "inputs, targets = load_data(TRAIN_PATH)\n",
    "\n",
    "trainer.train(inputs, targets, \n",
    "              verbose=params.train.verbose, n_jobs=params.train.n_jobs)\n",
    "trainer.save(MODEL_SAVE_PATH)"
   ]
  },
  {
   "cell_type": "code",
   "execution_count": null,
   "metadata": {},
   "outputs": [],
   "source": []
  },
  {
   "cell_type": "code",
   "execution_count": null,
   "metadata": {},
   "outputs": [],
   "source": []
  }
 ],
 "metadata": {
  "kernelspec": {
   "display_name": "venv",
   "language": "python",
   "name": "python3"
  },
  "language_info": {
   "codemirror_mode": {
    "name": "ipython",
    "version": 3
   },
   "file_extension": ".py",
   "mimetype": "text/x-python",
   "name": "python",
   "nbconvert_exporter": "python",
   "pygments_lexer": "ipython3",
   "version": "3.10.12"
  }
 },
 "nbformat": 4,
 "nbformat_minor": 2
}
