{
 "cells": [
  {
   "cell_type": "code",
   "execution_count": 2,
   "metadata": {},
   "outputs": [],
   "source": [
    "import sys\n",
    "sys.path.insert(0,\"../\")\n",
    "sys.path.insert(0,\"../src\")\n",
    "\n",
    "\n",
    "from src.utils import get_params_config\n",
    "from src.preprocess import Preparator\n",
    "\n",
    "\n",
    "PARAMS_YAML_FILE = \"../params.yaml\"\n",
    "SAVE_DIR = \".\"\n",
    "DATASET_PATH = \"../data/BankNote_Authentication.csv\"\n",
    "TRAIN_SAVE_FILE = \"train_part.csv\"\n",
    "TEST_SAVE_FILE = \"test_part.csv\""
   ]
  },
  {
   "cell_type": "code",
   "execution_count": 3,
   "metadata": {},
   "outputs": [
    {
     "name": "stdout",
     "output_type": "stream",
     "text": [
      "2024-04-27 00:01:53,356 — src.preprocess — INFO — Initiating Preparator-class\n",
      "2024-04-27 00:01:53,357 — src.preprocess — INFO — START_METHOD: Split dataset on train/test parts\n",
      "2024-04-27 00:01:53,367 — src.preprocess — INFO — Train X/y sizes: (1097, 4)/(1097, 1)\n",
      "2024-04-27 00:01:53,368 — src.preprocess — INFO — Test X/y sizes: (275, 4)/(275, 1)\n",
      "2024-04-27 00:01:53,369 — src.preprocess — INFO — Saving train part\n",
      "2024-04-27 00:01:53,391 — src.preprocess — INFO — Saving test part\n",
      "2024-04-27 00:01:53,394 — src.preprocess — INFO — END_METHOD: Split dataset on train/test parts\n"
     ]
    }
   ],
   "source": [
    "params = get_params_config(params_path=PARAMS_YAML_FILE)\n",
    "train_size = params.prepare.train_size\n",
    "seed = params.prepare.seed\n",
    "\n",
    "prep = Preparator(\n",
    "    train_s=train_size,\n",
    "    seed=seed,\n",
    "    save_dir=SAVE_DIR\n",
    ")\n",
    "\n",
    "output = prep.split(\n",
    "    DATASET_PATH, train_savep=TRAIN_SAVE_FILE, \n",
    "    test_savep=TEST_SAVE_FILE)"
   ]
  },
  {
   "cell_type": "code",
   "execution_count": null,
   "metadata": {},
   "outputs": [],
   "source": []
  }
 ],
 "metadata": {
  "kernelspec": {
   "display_name": "venv",
   "language": "python",
   "name": "python3"
  },
  "language_info": {
   "codemirror_mode": {
    "name": "ipython",
    "version": 3
   },
   "file_extension": ".py",
   "mimetype": "text/x-python",
   "name": "python",
   "nbconvert_exporter": "python",
   "pygments_lexer": "ipython3",
   "version": "3.10.12"
  }
 },
 "nbformat": 4,
 "nbformat_minor": 2
}
