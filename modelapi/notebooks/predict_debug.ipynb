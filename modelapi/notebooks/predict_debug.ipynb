{
 "cells": [
  {
   "cell_type": "code",
   "execution_count": 1,
   "metadata": {},
   "outputs": [],
   "source": [
    "import sys\n",
    "sys.path.insert(0,\"../\")\n",
    "sys.path.insert(0,\"../src\")"
   ]
  },
  {
   "cell_type": "code",
   "execution_count": 2,
   "metadata": {},
   "outputs": [],
   "source": [
    "from sklearn.ensemble import RandomForestClassifier\n",
    "import joblib\n",
    "from dataclasses import dataclass\n",
    "from typing import Union, List\n",
    "import pandas as pd\n",
    "import inspect\n",
    "import json\n",
    "from sklearn.metrics import f1_score, roc_auc_score, accuracy_score, recall_score, precision_score\n",
    "\n",
    "from logger import Logger\n",
    "from utils import cls_se_log, get_params_config, load_data\n",
    "from predict import Evaluator\n",
    "\n",
    "SHOW_LOG = True"
   ]
  },
  {
   "cell_type": "code",
   "execution_count": 3,
   "metadata": {},
   "outputs": [],
   "source": [
    "PARAMS_YAML_PATH = '../params.yaml'\n",
    "MODEL_PATH = './model.pkl'\n",
    "TEST_PATH = '../data/test_part.csv'\n",
    "METRICS_SAVE_PATH = './metrics.json'"
   ]
  },
  {
   "cell_type": "code",
   "execution_count": 4,
   "metadata": {},
   "outputs": [
    {
     "name": "stdout",
     "output_type": "stream",
     "text": [
      "2024-04-27 00:07:15,098 — predict — INFO — Initiating Evaluator-class\n",
      "2024-04-27 00:07:15,099 — predict — INFO — START_METHOD: Load model\n",
      "2024-04-27 00:07:15,175 — predict — INFO — END_METHOD: Load model\n",
      "Dataset size: (275, 5)\n",
      "2024-04-27 00:07:15,178 — predict — INFO — START_METHOD: Evaluating model\n",
      "2024-04-27 00:07:15,229 — predict — INFO — END_METHOD: Evaluating model\n"
     ]
    },
    {
     "name": "stderr",
     "output_type": "stream",
     "text": [
      "[Parallel(n_jobs=2)]: Using backend ThreadingBackend with 2 concurrent workers.\n",
      "[Parallel(n_jobs=2)]: Done  46 tasks      | elapsed:    0.0s\n",
      "[Parallel(n_jobs=2)]: Done 196 tasks      | elapsed:    0.0s\n",
      "[Parallel(n_jobs=2)]: Done 300 out of 300 | elapsed:    0.0s finished\n"
     ]
    }
   ],
   "source": [
    "params = get_params_config(params_path=PARAMS_YAML_PATH)\n",
    "\n",
    "evaluator = Evaluator(MODEL_PATH)\n",
    "inputs, targets = load_data(TEST_PATH)\n",
    "\n",
    "predictions = evaluator.predict(inputs)\n",
    "metrics = evaluator.compute_scores(targets, predictions, save_path=METRICS_SAVE_PATH)"
   ]
  },
  {
   "cell_type": "code",
   "execution_count": null,
   "metadata": {},
   "outputs": [],
   "source": []
  }
 ],
 "metadata": {
  "kernelspec": {
   "display_name": "venv",
   "language": "python",
   "name": "python3"
  },
  "language_info": {
   "codemirror_mode": {
    "name": "ipython",
    "version": 3
   },
   "file_extension": ".py",
   "mimetype": "text/x-python",
   "name": "python",
   "nbconvert_exporter": "python",
   "pygments_lexer": "ipython3",
   "version": "3.10.12"
  }
 },
 "nbformat": 4,
 "nbformat_minor": 2
}
